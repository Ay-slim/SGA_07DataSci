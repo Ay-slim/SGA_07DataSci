{
 "cells": [
  {
   "cell_type": "code",
   "execution_count": 1,
   "metadata": {},
   "outputs": [
    {
     "name": "stdout",
     "output_type": "stream",
     "text": [
      "How many values of the fibonacci series do you want printed out? 20\n"
     ]
    },
    {
     "data": {
      "text/plain": [
       "[1,\n",
       " 1,\n",
       " 2,\n",
       " 3,\n",
       " 5,\n",
       " 8,\n",
       " 13,\n",
       " 21,\n",
       " 34,\n",
       " 55,\n",
       " 89,\n",
       " 144,\n",
       " 233,\n",
       " 377,\n",
       " 610,\n",
       " 987,\n",
       " 1597,\n",
       " 2584,\n",
       " 4181,\n",
       " 6765]"
      ]
     },
     "execution_count": 1,
     "metadata": {},
     "output_type": "execute_result"
    }
   ],
   "source": [
    " def fibonacci(User_def_number):\n",
    "    fib_list = [0,1] #create the base case\n",
    "    while len(fib_list) != (User_def_number+1):\n",
    "        fib_list.append(fib_list[-1]+fib_list[-2]) #append the sum of the last two numbers to the list\n",
    "        #print(fib_list)\n",
    "    return fib_list[1:] #return the list of numbers but drop the first element (zero)\n",
    "\n",
    "User_def = int(input(\"How many values of the fibonacci series do you want printed out? \"))\n",
    "fibonacci(User_def)\n",
    "   "
   ]
  },
  {
   "cell_type": "code",
   "execution_count": 2,
   "metadata": {},
   "outputs": [
    {
     "name": "stdout",
     "output_type": "stream",
     "text": [
      "Type in the sentence you want reordered: Existence is unnecessarily unnecessary\n"
     ]
    },
    {
     "data": {
      "text/plain": [
       "['unnecessary', 'unnecessarily', 'is', 'Existence']"
      ]
     },
     "execution_count": 2,
     "metadata": {},
     "output_type": "execute_result"
    }
   ],
   "source": [
    "def reorder(word):\n",
    "    word = word.split() #convert the sentence to a list of words\n",
    "    word_clone= word[:] #create a copy of the original word list\n",
    "    while len(word) !=0: #condition to stop the replacement when the original word list is empty\n",
    "        for j in range(len(word_clone)):\n",
    "            word_clone[j]= word[-1] #replace each word in the list copy with the last word in the original word list\n",
    "            word.remove(word[-1]) #delete each word as it is being replaced\n",
    "    return word_clone\n",
    "\n",
    "sentence = input(\"Type in the sentence you want reordered: \")\n",
    "reorder(sentence)\n",
    "            \n",
    "        \n",
    "    "
   ]
  },
  {
   "cell_type": "code",
   "execution_count": 3,
   "metadata": {},
   "outputs": [
    {
     "name": "stdout",
     "output_type": "stream",
     "text": [
      "Type in the word you want to check for being a palindrome: AmelioratetaroilemA\n"
     ]
    },
    {
     "data": {
      "text/plain": [
       "'This word is a palindrome'"
      ]
     },
     "execution_count": 3,
     "metadata": {},
     "output_type": "execute_result"
    }
   ],
   "source": [
    "def palindrome_check(word_check):  \n",
    "    word_check = list(word_check) #convert the word to be checked into a list\n",
    "    hold_check=[]  #create empty list to track each letter to be checked\n",
    "    for j in range(len(word_check)):\n",
    "        if word_check[j] == word_check[-j-1]: #check the letters starting from the extreme ends of the words and stepping through towards the center\n",
    "            hold_check.append(1) #append a one if the letters are the same\n",
    "        else:\n",
    "            hold_check.append(0) #append a zero if they are different\n",
    "    if 0 in hold_check:\n",
    "        return \"This word is not a palindrome\"\n",
    "    else:\n",
    "        return \"This word is a palindrome\"\n",
    "    \n",
    "word_check = input(\"Type in the word you want to check for being a palindrome: \")\n",
    "palindrome_check(word_check)"
   ]
  },
  {
   "cell_type": "code",
   "execution_count": 4,
   "metadata": {},
   "outputs": [
    {
     "name": "stdout",
     "output_type": "stream",
     "text": [
      "Welcome to birthday dictionary. We know the birthdays of Akin, Joseph, Ope, Ayo, Kenn, Paey, and Jindu\n",
      "Whose birthday do you want to look up? Ayo\n",
      "Ayo's'birthday is: 05/02/1993\n"
     ]
    }
   ],
   "source": [
    "birth_dict = {'Akin':'25/06/1987', 'Joseph':'12/08/1990', 'Ope':'29/02/1982', 'Ayo':'05/02/1993', 'Kenn':'12/03/1995', 'Paey':'15/09/1992', 'Jindu':'29/06/1987'}\n",
    "print('Welcome to birthday dictionary. We know the birthdays of Akin, Joseph, Ope, Ayo, Kenn, Paey, and Jindu')\n",
    "\n",
    "def birthday_check(key):\n",
    "    return print(key + \"'s\" + \"birthday is: \" + birth_dict[key])\n",
    "key = input(\"Whose birthday do you want to look up? \")\n",
    "birthday_check(key)\n",
    "    "
   ]
  },
  {
   "cell_type": "code",
   "execution_count": 43,
   "metadata": {
    "scrolled": true
   },
   "outputs": [
    {
     "name": "stdout",
     "output_type": "stream",
     "text": [
      "Type in the website where you want the titles scraped from: https://www.nytimes.com\n",
      "1.U.S.: States Rely on Residents’ Trust as Restrictions Are Loosened\n",
      "2.Grandma Rocket, the Virus and a Family Whose Love Bridged 2,500 Miles\n",
      "3.Global: Spain’s Adults Get First Outdoor Exercise in Weeks\n",
      "4.New York: Watch Cuomo’s Virus Update\n",
      "5.After a Lifetime Together, Coronavirus Takes Them Both\n",
      "6.What Happens When Kim Jong-un Is Really Gone?\n",
      "7.Stark Symbol of Pandemic in N.Y.: Homeless People Huddled on the Subway\n",
      "8.Congress’s doctor cannot screen every senator for the virus, but the president and many aides are repeatedly tested.\n",
      "9.Berkshire Hathaway Lost $49.7 Billion in First Quarter \n",
      "10.‘Hospital Needs to Be Quarantined,’ but Works On in Country at War\n",
      "11.Some companies are looking to cash in on human blood samples.  \n",
      "12.Did you follow the headlines this week? Take our news quiz.\n",
      "13.Madeline Kripke, Doyenne of Dictionaries, Is Dead at 76\n",
      "14.The Best Part of the Campaign Trail (the Food!) Comes Home\n"
     ]
    }
   ],
   "source": [
    "def webpage_titles(website):\n",
    "\n",
    "    import requests\n",
    "    page= requests.get(website)\n",
    "    from bs4 import BeautifulSoup\n",
    "    soup = BeautifulSoup(page.content, 'html.parser')\n",
    "    article_titles = soup.find_all('h2', class_=\"css-1cmu9py esl82me0\")\n",
    "    article_titles_text = []\n",
    "    for i in range(len(article_titles)):\n",
    "        article_titles_text.append(article_titles[i].get_text())\n",
    "    for j in range(len(article_titles_text)):\n",
    "        print(str(j+1)+ '.' + article_titles_text[j])\n",
    "    \n",
    "\n",
    "website = input(\"Type in the website where you want the titles scraped from: \")\n",
    "webpage_titles(website)"
   ]
  },
  {
   "cell_type": "code",
   "execution_count": null,
   "metadata": {},
   "outputs": [],
   "source": []
  }
 ],
 "metadata": {
  "kernelspec": {
   "display_name": "Python 3",
   "language": "python",
   "name": "python3"
  },
  "language_info": {
   "codemirror_mode": {
    "name": "ipython",
    "version": 3
   },
   "file_extension": ".py",
   "mimetype": "text/x-python",
   "name": "python",
   "nbconvert_exporter": "python",
   "pygments_lexer": "ipython3",
   "version": "3.7.4"
  }
 },
 "nbformat": 4,
 "nbformat_minor": 2
}

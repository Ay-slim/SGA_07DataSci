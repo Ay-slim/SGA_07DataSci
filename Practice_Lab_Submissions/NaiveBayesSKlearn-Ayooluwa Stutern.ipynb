{
 "cells": [
  {
   "cell_type": "markdown",
   "metadata": {
    "colab_type": "text",
    "id": "bWjVyuPFYm3C"
   },
   "source": [
    "# Naïve Bayes from Scratch! \n"
   ]
  },
  {
   "cell_type": "markdown",
   "metadata": {
    "colab_type": "text",
    "id": "7IbxMgpiYm35"
   },
   "source": [
    "# Outcome of this Tutorial - A Hands-On Scikit-learn Implementation of NB \n",
    "A complete walk-through of NB implementation of NB using Python's Holy Grail of Machine Learning - Scikit-learn\n"
   ]
  },
  {
   "cell_type": "markdown",
   "metadata": {
    "colab_type": "text",
    "id": "TQzHrGu1Ym4c"
   },
   "source": [
    "Let's begin with a few imports..."
   ]
  },
  {
   "cell_type": "code",
   "execution_count": 1,
   "metadata": {
    "colab": {},
    "colab_type": "code",
    "id": "Glpbbfx9Ym4-"
   },
   "outputs": [],
   "source": [
    "import pandas as pd \n",
    "import numpy as np \n",
    "from collections import defaultdict\n",
    "import re "
   ]
  },
  {
   "cell_type": "markdown",
   "metadata": {
    "colab_type": "text",
    "id": "WOE8D-VhYm51"
   },
   "source": [
    "Lets first write a handy text preprocessing function "
   ]
  },
  {
   "cell_type": "code",
   "execution_count": 2,
   "metadata": {
    "colab": {},
    "colab_type": "code",
    "id": "U6KR9bU0Ym6D"
   },
   "outputs": [],
   "source": [
    "def preprocess_string(str_arg):\n",
    "    \n",
    "    \"\"\"\"\n",
    "        Parameters:\n",
    "        ----------\n",
    "        str_arg: example string to be preprocessed\n",
    "        \n",
    "        What the function does?\n",
    "        -----------------------\n",
    "        Preprocess the string argument - str_arg - such that :\n",
    "        1. everything apart from letters is excluded\n",
    "        2. multiple spaces are replaced by single space\n",
    "        3. str_arg is converted to lower case \n",
    "        \n",
    "        Example:\n",
    "        --------\n",
    "        Input :  Menu is absolutely perfect,loved it!\n",
    "        Output:  ['menu', 'is', 'absolutely', 'perfect', 'loved', 'it']\n",
    "        \n",
    "\n",
    "        Returns:\n",
    "        ---------\n",
    "        Preprocessed string \n",
    "        \n",
    "    \"\"\"\n",
    "    \n",
    "    cleaned_str=re.sub('[^a-z\\s]+',' ',str_arg,flags=re.IGNORECASE) #every char except alphabets is replaced\n",
    "    cleaned_str=re.sub('(\\s+)',' ',cleaned_str) #multiple spaces are replaced by single space\n",
    "    cleaned_str=cleaned_str.lower() #converting the cleaned string to lower case\n",
    "    \n",
    "    return cleaned_str # returning the preprocessed string in tokenized form"
   ]
  },
  {
   "cell_type": "markdown",
   "metadata": {
    "colab_type": "text",
    "id": "3A43Ho2CYm6v"
   },
   "source": [
    "# Loading the 20 newsgroup Dataset  \n"
   ]
  },
  {
   "cell_type": "code",
   "execution_count": 5,
   "metadata": {
    "colab": {
     "base_uri": "https://localhost:8080/",
     "height": 85
    },
    "colab_type": "code",
    "id": "JEdRCH_LYm68",
    "outputId": "b9ebd579-ec7a-4c4c-fc7f-e6ddb2863e5c"
   },
   "outputs": [
    {
     "name": "stdout",
     "output_type": "stream",
     "text": [
      "Total Number of Training Examples:  2984\n",
      "Total Number of Training Labels:  2984\n"
     ]
    }
   ],
   "source": [
    "from sklearn.datasets import fetch_20newsgroups\n",
    "\n",
    "######################### Loading Training Dataset ############################\n",
    "\n",
    "categories=['rec.autos','rec.motorcycles','rec.sport.baseball','rec.sport.hockey','sci.crypt'] \n",
    "newsgroups_train=fetch_20newsgroups(subset='train',categories=categories)\n",
    "\n",
    "train_data=newsgroups_train.data #getting all training examples\n",
    "train_labels=newsgroups_train.target #getting training labels\n",
    "\n",
    "print (\"Total Number of Training Examples: \",len(train_data))\n",
    "print (\"Total Number of Training Labels: \",len(train_labels))\n"
   ]
  },
  {
   "cell_type": "markdown",
   "metadata": {
    "colab_type": "text",
    "id": "h9dfPOtLYm7t"
   },
   "source": [
    "## Here is what the training dataset looks like in its raw form .....  🤔\n",
    "Training Examples : <br>\n",
    "    The 20 newsgroups dataset comprises around 18000 newsgroups posts on 20 topics \n",
    "    \n",
    "Training Labels : <br>\n",
    "    Training Labels are ['rec.autos','rec.motorcycles','rec.sport.baseball','rec.sport.hockey','sci.crypt'] - where each training     label has its own unique integer id"
   ]
  },
  {
   "cell_type": "code",
   "execution_count": 6,
   "metadata": {
    "colab": {},
    "colab_type": "code",
    "id": "TYrC-nAIYm77",
    "outputId": "a8531d82-7604-4bcb-8ea7-bab2e093bac8"
   },
   "outputs": [
    {
     "data": {
      "text/html": [
       "<div>\n",
       "<style scoped>\n",
       "    .dataframe tbody tr th:only-of-type {\n",
       "        vertical-align: middle;\n",
       "    }\n",
       "\n",
       "    .dataframe tbody tr th {\n",
       "        vertical-align: top;\n",
       "    }\n",
       "\n",
       "    .dataframe thead th {\n",
       "        text-align: right;\n",
       "    }\n",
       "</style>\n",
       "<table border=\"1\" class=\"dataframe\">\n",
       "  <thead>\n",
       "    <tr style=\"text-align: right;\">\n",
       "      <th></th>\n",
       "      <th>Training Examples</th>\n",
       "      <th>Training Labels</th>\n",
       "    </tr>\n",
       "  </thead>\n",
       "  <tbody>\n",
       "    <tr>\n",
       "      <td>0</td>\n",
       "      <td>From: carl@lvsun.com (Carl Shapiro)\\nSubject: ...</td>\n",
       "      <td>4</td>\n",
       "    </tr>\n",
       "    <tr>\n",
       "      <td>1</td>\n",
       "      <td>From: nmcglynn@buffalo.axion.bt.co.uk (Neil A....</td>\n",
       "      <td>3</td>\n",
       "    </tr>\n",
       "    <tr>\n",
       "      <td>2</td>\n",
       "      <td>From: viking@iastate.edu (Dan Sorenson)\\nSubje...</td>\n",
       "      <td>1</td>\n",
       "    </tr>\n",
       "    <tr>\n",
       "      <td>3</td>\n",
       "      <td>From: randy@megatek.com (Randy Davis)\\nSubject...</td>\n",
       "      <td>1</td>\n",
       "    </tr>\n",
       "    <tr>\n",
       "      <td>4</td>\n",
       "      <td>From: cbetz@radioman.cray.com (Charles Betz  {...</td>\n",
       "      <td>3</td>\n",
       "    </tr>\n",
       "  </tbody>\n",
       "</table>\n",
       "</div>"
      ],
      "text/plain": [
       "                                   Training Examples Training Labels\n",
       "0  From: carl@lvsun.com (Carl Shapiro)\\nSubject: ...               4\n",
       "1  From: nmcglynn@buffalo.axion.bt.co.uk (Neil A....               3\n",
       "2  From: viking@iastate.edu (Dan Sorenson)\\nSubje...               1\n",
       "3  From: randy@megatek.com (Randy Davis)\\nSubject...               1\n",
       "4  From: cbetz@radioman.cray.com (Charles Betz  {...               3"
      ]
     },
     "execution_count": 6,
     "metadata": {},
     "output_type": "execute_result"
    }
   ],
   "source": [
    "pd.DataFrame(data=np.column_stack([train_data,train_labels]),columns=[\"Training Examples\",\"Training Labels\"]).head()"
   ]
  },
  {
   "cell_type": "markdown",
   "metadata": {
    "colab_type": "text",
    "id": "ULSt9PoRYm8c"
   },
   "source": [
    "## Let's begin with the preprocessing of the training dataset that includes\n",
    "1. Text Cleaning\n",
    "2. Creating the BoW representation of our training Dataset (would need the same for test dataset as well)"
   ]
  },
  {
   "cell_type": "markdown",
   "metadata": {
    "colab_type": "text",
    "id": "L4Y1mWi3Ym8m"
   },
   "source": [
    "### 1. Text Cleaning"
   ]
  },
  {
   "cell_type": "code",
   "execution_count": 7,
   "metadata": {
    "colab": {},
    "colab_type": "code",
    "id": "DCv7srlHYm8z",
    "outputId": "0bc6294d-75b5-4f0e-ad15-12291ccc3996"
   },
   "outputs": [
    {
     "name": "stdout",
     "output_type": "stream",
     "text": [
      "Data Cleaning Done\n",
      "Total Number of Training Examples:  2984\n"
     ]
    }
   ],
   "source": [
    "train_data=[preprocess_string(train_str) for train_str in train_data]\n",
    "print (\"Data Cleaning Done\")\n",
    "print (\"Total Number of Training Examples: \",len(train_data))"
   ]
  },
  {
   "cell_type": "markdown",
   "metadata": {
    "colab_type": "text",
    "id": "BeKF-pQOYm9m"
   },
   "source": [
    "## Here's what the processed training dataset looks like"
   ]
  },
  {
   "cell_type": "code",
   "execution_count": 8,
   "metadata": {
    "colab": {},
    "colab_type": "code",
    "id": "rLDYwbSLYm94",
    "outputId": "e0c94710-1536-4280-bd60-a9177a0617e8"
   },
   "outputs": [
    {
     "data": {
      "text/html": [
       "<div>\n",
       "<style scoped>\n",
       "    .dataframe tbody tr th:only-of-type {\n",
       "        vertical-align: middle;\n",
       "    }\n",
       "\n",
       "    .dataframe tbody tr th {\n",
       "        vertical-align: top;\n",
       "    }\n",
       "\n",
       "    .dataframe thead th {\n",
       "        text-align: right;\n",
       "    }\n",
       "</style>\n",
       "<table border=\"1\" class=\"dataframe\">\n",
       "  <thead>\n",
       "    <tr style=\"text-align: right;\">\n",
       "      <th></th>\n",
       "      <th>Training Examples</th>\n",
       "      <th>Training Labels</th>\n",
       "    </tr>\n",
       "  </thead>\n",
       "  <tbody>\n",
       "    <tr>\n",
       "      <td>0</td>\n",
       "      <td>from carl lvsun com carl shapiro subject re es...</td>\n",
       "      <td>4</td>\n",
       "    </tr>\n",
       "    <tr>\n",
       "      <td>1</td>\n",
       "      <td>from nmcglynn buffalo axion bt co uk neil a mc...</td>\n",
       "      <td>3</td>\n",
       "    </tr>\n",
       "    <tr>\n",
       "      <td>2</td>\n",
       "      <td>from viking iastate edu dan sorenson subject r...</td>\n",
       "      <td>1</td>\n",
       "    </tr>\n",
       "    <tr>\n",
       "      <td>3</td>\n",
       "      <td>from randy megatek com randy davis subject re ...</td>\n",
       "      <td>1</td>\n",
       "    </tr>\n",
       "    <tr>\n",
       "      <td>4</td>\n",
       "      <td>from cbetz radioman cray com charles betz x cf...</td>\n",
       "      <td>3</td>\n",
       "    </tr>\n",
       "  </tbody>\n",
       "</table>\n",
       "</div>"
      ],
      "text/plain": [
       "                                   Training Examples Training Labels\n",
       "0  from carl lvsun com carl shapiro subject re es...               4\n",
       "1  from nmcglynn buffalo axion bt co uk neil a mc...               3\n",
       "2  from viking iastate edu dan sorenson subject r...               1\n",
       "3  from randy megatek com randy davis subject re ...               1\n",
       "4  from cbetz radioman cray com charles betz x cf...               3"
      ]
     },
     "execution_count": 8,
     "metadata": {},
     "output_type": "execute_result"
    }
   ],
   "source": [
    "pd.DataFrame(data=np.column_stack([train_data,train_labels]),columns=[\"Training Examples\",\"Training Labels\"]).head()"
   ]
  },
  {
   "cell_type": "markdown",
   "metadata": {
    "colab_type": "text",
    "id": "Or0YK_lwYm-Z"
   },
   "source": [
    "### 2. Creating the BoW representation of our training Dataset (would need the same for test dataset as well)"
   ]
  },
  {
   "cell_type": "code",
   "execution_count": 9,
   "metadata": {
    "colab": {},
    "colab_type": "code",
    "id": "034T34jZYm-k",
    "outputId": "5126cd7b-f6ce-45aa-9bca-8dc2c6f784d5"
   },
   "outputs": [
    {
     "name": "stdout",
     "output_type": "stream",
     "text": [
      "(2984, 31409)\n"
     ]
    }
   ],
   "source": [
    "from sklearn.feature_extraction.text import CountVectorizer #simply import CountVectorizer\n",
    "count_vect = CountVectorizer() #instantiate it's object\n",
    "X_train_counts = count_vect.fit_transform(train_data) #builds a term-document matrix ands return it\n",
    "print (X_train_counts.shape)\n"
   ]
  },
  {
   "cell_type": "markdown",
   "metadata": {
    "colab_type": "text",
    "id": "34ZdF50MYm_a"
   },
   "source": [
    "## Regarding CountVectorizer - as explained on [Scikit_learn](http://scikit-learn.org/stable/tutorial/text_analytics/working_with_text_data.html)\n",
    "\n",
    "What the Countvectorizer Does?\n",
    "Takes in the text corpus, builds it's term document matrix (i.e BoW), and returns it\n",
    "\n",
    "Every word is assigned a fixed unique integer id and vale of each cell of this matrix represents the word\n",
    "count - BoW\n",
    "\n",
    "So for example X_train_counts[ i , j ]- where i refers to a document which in our case each document specifies a training example and j refers to the index of a word w in it's respective document i- would return count of word j \n",
    "\n",
    "X_train_counts[0,12048] will retrieve the word count of word with the integer id = 12048 and domcent/example \n",
    "id 0\n",
    "\n",
    "You can read more about Sklearn CountVectorizer at [CountVectorizer](http://scikit-learn.org/stable/modules/generated/sklearn.feature_extraction.text.CountVectorizer.html#sklearn.feature_extraction.text.CountVectorizer)"
   ]
  },
  {
   "cell_type": "code",
   "execution_count": 10,
   "metadata": {
    "colab": {},
    "colab_type": "code",
    "id": "kfRH2fQVYm_l",
    "outputId": "0f4753ad-630b-4568-f32a-9fee73d27b22"
   },
   "outputs": [
    {
     "name": "stdout",
     "output_type": "stream",
     "text": [
      "0\n"
     ]
    }
   ],
   "source": [
    "print (X_train_counts[0,12048])"
   ]
  },
  {
   "cell_type": "code",
   "execution_count": 11,
   "metadata": {
    "colab": {},
    "colab_type": "code",
    "id": "ewYfLPj9YnAS",
    "outputId": "33cad397-2696-42bf-8127-d128db5c3898"
   },
   "outputs": [
    {
     "name": "stdout",
     "output_type": "stream",
     "text": [
      "  (0, 10610)\t1\n",
      "  (0, 3981)\t2\n",
      "  (0, 16400)\t1\n",
      "  (0, 5102)\t1\n",
      "  (0, 24887)\t1\n",
      "  (0, 26714)\t1\n",
      "  (0, 22501)\t1\n",
      "  (0, 9146)\t2\n",
      "  (0, 30671)\t2\n",
      "  (0, 5874)\t1\n",
      "  (0, 2475)\t2\n",
      "  (0, 26881)\t1\n",
      "  (0, 21545)\t1\n",
      "  (0, 11504)\t1\n",
      "  (0, 27684)\t1\n",
      "  (0, 27829)\t1\n",
      "  (0, 19592)\t1\n",
      "  (0, 15457)\t1\n",
      "  (0, 29617)\t1\n",
      "  (0, 26890)\t1\n",
      "  (0, 15932)\t1\n",
      "  (0, 13247)\t2\n",
      "  (0, 1470)\t1\n",
      "  (0, 1277)\t1\n",
      "  (0, 15217)\t2\n",
      "  :\t:\n",
      "  (2983, 609)\t1\n",
      "  (2983, 8906)\t1\n",
      "  (2983, 26651)\t1\n",
      "  (2983, 17403)\t1\n",
      "  (2983, 24762)\t1\n",
      "  (2983, 2379)\t1\n",
      "  (2983, 10449)\t1\n",
      "  (2983, 16212)\t4\n",
      "  (2983, 1032)\t4\n",
      "  (2983, 10208)\t1\n",
      "  (2983, 3775)\t3\n",
      "  (2983, 29531)\t3\n",
      "  (2983, 234)\t1\n",
      "  (2983, 16325)\t1\n",
      "  (2983, 17707)\t2\n",
      "  (2983, 15369)\t3\n",
      "  (2983, 3563)\t2\n",
      "  (2983, 26654)\t1\n",
      "  (2983, 27242)\t1\n",
      "  (2983, 5072)\t1\n",
      "  (2983, 23801)\t1\n",
      "  (2983, 16762)\t1\n",
      "  (2983, 21278)\t1\n",
      "  (2983, 9696)\t1\n",
      "  (2983, 27251)\t1\n"
     ]
    }
   ],
   "source": [
    "print (X_train_counts)"
   ]
  },
  {
   "cell_type": "markdown",
   "metadata": {
    "colab_type": "text",
    "id": "AYYzNn5kYnAx"
   },
   "source": [
    "# That's it!!! Let's Move to Training! ⛸⛸⛸"
   ]
  },
  {
   "cell_type": "code",
   "execution_count": 12,
   "metadata": {
    "colab": {},
    "colab_type": "code",
    "id": "bhWeUtv5YnA6",
    "outputId": "14312946-4b68-41e5-c430-2cd92cfa5a4f"
   },
   "outputs": [
    {
     "name": "stdout",
     "output_type": "stream",
     "text": [
      "Training Completed\n"
     ]
    }
   ],
   "source": [
    "from sklearn.naive_bayes import MultinomialNB #importing the Sklearn's NB Fucntionality\n",
    "clf = MultinomialNB() #simply instantiate a Multinomial Naive Bayes object\n",
    "clf.fit(X_train_counts, train_labels)  #calling the fit method trains it\n",
    "print (\"Training Completed\")"
   ]
  },
  {
   "cell_type": "markdown",
   "metadata": {
    "colab_type": "text",
    "id": "qK0hnVbYYnBZ"
   },
   "source": [
    "# So Now That We Have Trained NB Model - Let's Move to Testing! 🏄🏽🏄🏽🏄🏽"
   ]
  },
  {
   "cell_type": "code",
   "execution_count": 13,
   "metadata": {
    "colab": {},
    "colab_type": "code",
    "id": "g4jwIhENYnBi",
    "outputId": "701910a7-baf9-499d-82fe-f7e2e159f91a"
   },
   "outputs": [
    {
     "name": "stdout",
     "output_type": "stream",
     "text": [
      "Number of Test Examples:  1986\n",
      "Number of Test Labels:  1986\n",
      "Number of Test Examples:  1986\n"
     ]
    }
   ],
   "source": [
    "newsgroups_test=fetch_20newsgroups(subset='test',categories=categories) #loading test data\n",
    "test_data=newsgroups_test.data #get test set examples\n",
    "test_labels=newsgroups_test.target #get test set labels\n",
    "\n",
    "print (\"Number of Test Examples: \",len(test_data))\n",
    "print (\"Number of Test Labels: \",len(test_labels))\n",
    "\n",
    "test_data=[preprocess_string(test_str) for test_str in test_data] #need to preporcess the test set as well!!\n",
    "print (\"Number of Test Examples: \",len(test_data))\n",
    "\n"
   ]
  },
  {
   "cell_type": "code",
   "execution_count": 0,
   "metadata": {
    "colab": {},
    "colab_type": "code",
    "id": "HrwOS3lxoGCU"
   },
   "outputs": [],
   "source": []
  },
  {
   "cell_type": "code",
   "execution_count": 0,
   "metadata": {
    "colab": {},
    "colab_type": "code",
    "id": "OUzlP67a5_2-"
   },
   "outputs": [],
   "source": []
  },
  {
   "cell_type": "markdown",
   "metadata": {
    "colab_type": "text",
    "id": "3ABRz5WTYnB_"
   },
   "source": [
    "The same count_vect object that was instantiated for training dataset will be used for test dataset.\n",
    "But remeber that we are not calling fit_transform(since we only want to transform the test data into a term-document matrix whereas fit_transform fit_transform learns the vocabulary dictionary first and then returns a term-document matrix. We are supposed to learn the vocabulary on training dataset only\n",
    "\n",
    "fit_transform : learns the vocabulary dictionary and returns term-document matrix\n",
    "transform : transforms documents to document-term matrix\n"
   ]
  },
  {
   "cell_type": "code",
   "execution_count": 14,
   "metadata": {
    "colab": {},
    "colab_type": "code",
    "id": "280BapxoYnCJ",
    "outputId": "c2515d67-10e1-49bc-9417-449157146fc3"
   },
   "outputs": [
    {
     "name": "stdout",
     "output_type": "stream",
     "text": [
      "(1986, 31409)\n"
     ]
    }
   ],
   "source": [
    "X_test_counts=count_vect.transform(test_data) #transforms test data to numerical form\n",
    "print (X_test_counts.shape)"
   ]
  },
  {
   "cell_type": "markdown",
   "metadata": {
    "colab_type": "text",
    "id": "yBKKlRIa6_Ak"
   },
   "source": []
  },
  {
   "cell_type": "markdown",
   "metadata": {
    "colab_type": "text",
    "id": "xma4CyX4YnCz"
   },
   "source": [
    "# Now we can test on the transformed version of test data"
   ]
  },
  {
   "cell_type": "code",
   "execution_count": 15,
   "metadata": {
    "colab": {},
    "colab_type": "code",
    "id": "On3UQ-4xYnDC",
    "outputId": "d95e616a-f8c9-4bc5-c0ff-1a0cbca2311d"
   },
   "outputs": [
    {
     "name": "stdout",
     "output_type": "stream",
     "text": [
      "Test Set Accuracy :  0.9692849949647533\n"
     ]
    }
   ],
   "source": [
    "predicted=clf.predict(X_test_counts)\n",
    "print (\"Test Set Accuracy : \",np.sum(predicted==test_labels)/float(len(predicted))) "
   ]
  },
  {
   "cell_type": "markdown",
   "metadata": {
    "colab_type": "text",
    "id": "wrS8iU5lYnDk"
   },
   "source": [
    "### The above code can be further reduced to literally 3 lines of code by using the pipeline functionality of sklearn!\n",
    "\n",
    "# It's truly the ML Holy Toolkit!"
   ]
  },
  {
   "cell_type": "code",
   "execution_count": 16,
   "metadata": {
    "colab": {},
    "colab_type": "code",
    "id": "AGzLRQBcYnDv",
    "outputId": "bbe3e3a3-8ff6-4ff3-b9fd-7d706e9186ee"
   },
   "outputs": [
    {
     "name": "stdout",
     "output_type": "stream",
     "text": [
      "Done\n"
     ]
    }
   ],
   "source": [
    "from sklearn.pipeline import Pipeline #importing the pipeline functionality\n",
    "\n",
    "\n",
    "\"\"\"\n",
    "    We simply build a pipeline object by specifying the pipeline actions and once that pipeline object is\n",
    "    used for the trainign purpose, it will automatically perform the pipeline steps int he specified order.\n",
    "    In our case, as we first want to build a CountVectorizer for the purpose of BoW, and then fit/train a \n",
    "    NB model, so in exectly the same manner, we will speicify these actions in our pipeline. \n",
    "    \n",
    "    Do note that, now when calling the fit method, we will pass the original textual data as now\n",
    "    the count_vect in pipeline will itself convert it to numeric form. So it's important here that we\n",
    "    pass the textual data or else nasty errros will pop out. Same is the case for test data as well. No need\n",
    "    to count vectorize it separately :) But we do need to preprocess the test data from cleaning point of view\n",
    "\n",
    "\"\"\"\n",
    "\n",
    "clf=Pipeline([('count_vect', CountVectorizer()),('clf', MultinomialNB())])\n",
    "clf.fit(train_data,train_labels)  \n",
    "print (\"Done\")"
   ]
  },
  {
   "cell_type": "code",
   "execution_count": 17,
   "metadata": {
    "colab": {},
    "colab_type": "code",
    "id": "APU_x82pYnEW",
    "outputId": "37196c1f-82c4-41a1-9e1d-e5630e016cbe"
   },
   "outputs": [
    {
     "name": "stdout",
     "output_type": "stream",
     "text": [
      "1986\n",
      "Test Set Accuracy :  0.9692849949647533\n"
     ]
    }
   ],
   "source": [
    "\n",
    "print (len(test_data))\n",
    "predicted=clf.predict(test_data)\n",
    "print (\"Test Set Accuracy : \",np.sum(predicted==test_labels)/float(len(predicted))) "
   ]
  },
  {
   "cell_type": "code",
   "execution_count": 0,
   "metadata": {
    "colab": {},
    "colab_type": "code",
    "id": "NCpMph3EYnFA"
   },
   "outputs": [],
   "source": []
  }
 ],
 "metadata": {
  "colab": {
   "collapsed_sections": [],
   "name": "NaiveBayesSKlearn.ipynb",
   "provenance": []
  },
  "kernelspec": {
   "display_name": "Python 3",
   "language": "python",
   "name": "python3"
  },
  "language_info": {
   "codemirror_mode": {
    "name": "ipython",
    "version": 3
   },
   "file_extension": ".py",
   "mimetype": "text/x-python",
   "name": "python",
   "nbconvert_exporter": "python",
   "pygments_lexer": "ipython3",
   "version": "3.7.4"
  }
 },
 "nbformat": 4,
 "nbformat_minor": 1
}
